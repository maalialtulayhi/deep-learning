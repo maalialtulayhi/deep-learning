{
 "cells": [
  {
   "cell_type": "code",
   "execution_count": 7,
   "id": "82053112-9de4-4b61-b3ee-3a5925afd17b",
   "metadata": {},
   "outputs": [
    {
     "name": "stdout",
     "output_type": "stream",
     "text": [
      "Requirement already satisfied: split-folders in c:\\users\\altul\\anaconda3\\lib\\site-packages (0.5.1)\n",
      "Note: you may need to restart the kernel to use updated packages.\n"
     ]
    }
   ],
   "source": [
    "pip install split-folders"
   ]
  },
  {
   "cell_type": "code",
   "execution_count": 6,
   "id": "14fcf564-0af5-4ecc-81cd-7cd28887cf3b",
   "metadata": {},
   "outputs": [
    {
     "name": "stdout",
     "output_type": "stream",
     "text": [
      "Requirement already satisfied: pip in c:\\users\\altul\\anaconda3\\lib\\site-packages (22.0.4)\n",
      "Collecting pip\n",
      "  Using cached pip-23.1.2-py3-none-any.whl (2.1 MB)\n",
      "Installing collected packages: pip\n",
      "  Attempting uninstall: pip\n",
      "    Found existing installation: pip 22.0.4\n",
      "    Uninstalling pip-22.0.4:\n",
      "      Successfully uninstalled pip-22.0.4\n",
      "Successfully installed pip-23.1.2\n",
      "Note: you may need to restart the kernel to use updated packages.\n"
     ]
    }
   ],
   "source": [
    "pip install --upgrade pip"
   ]
  },
  {
   "cell_type": "code",
   "execution_count": 16,
   "id": "3413d95a-e3d1-40ef-80e9-5480c556eb9c",
   "metadata": {},
   "outputs": [
    {
     "name": "stderr",
     "output_type": "stream",
     "text": [
      "\n",
      "\n",
      "Copying files: 0 files [00:00, ? files/s]\u001b[A\u001b[A\n",
      "\n",
      "Copying files: 1 files [00:00,  7.39 files/s]\u001b[A\u001b[A\n",
      "\n",
      "Copying files: 73 files [00:00, 371.03 files/s]\u001b[A\u001b[A\n",
      "\n",
      "Copying files: 151 files [00:00, 539.59 files/s]\u001b[A\u001b[A\n",
      "\n",
      "Copying files: 225 files [00:00, 611.67 files/s]\u001b[A\u001b[A\n",
      "\n",
      "Copying files: 289 files [00:00, 618.43 files/s]\u001b[A\u001b[A\n",
      "\n",
      "Copying files: 353 files [00:00, 622.46 files/s]\u001b[A\u001b[A\n",
      "\n",
      "Copying files: 424 files [00:00, 649.53 files/s]\u001b[A\u001b[A\n",
      "\n",
      "Copying files: 492 files [00:00, 658.76 files/s]\u001b[A\u001b[A\n",
      "\n",
      "Copying files: 559 files [00:00, 633.78 files/s]\u001b[A\u001b[A\n",
      "\n",
      "Copying files: 623 files [00:01, 587.12 files/s]\u001b[A\u001b[A\n",
      "\n",
      "Copying files: 686 files [00:01, 598.32 files/s]\u001b[A\u001b[A\n",
      "\n",
      "Copying files: 747 files [00:01, 596.25 files/s]\u001b[A\u001b[A\n",
      "\n",
      "Copying files: 830 files [00:01, 661.39 files/s]\u001b[A\u001b[A\n",
      "\n",
      "Copying files: 911 files [00:01, 703.04 files/s]\u001b[A\u001b[A\n",
      "\n",
      "Copying files: 993 files [00:01, 735.19 files/s]\u001b[A\u001b[A\n",
      "\n",
      "Copying files: 1072 files [00:01, 751.23 files/s]\u001b[A\u001b[A\n",
      "\n",
      "Copying files: 1149 files [00:01, 752.88 files/s]\u001b[A\u001b[A\n",
      "\n",
      "Copying files: 1225 files [00:01, 747.31 files/s]\u001b[A\u001b[A\n",
      "\n",
      "Copying files: 1300 files [00:02, 730.49 files/s]\u001b[A\u001b[A\n",
      "\n",
      "Copying files: 1375 files [00:02, 734.86 files/s]\u001b[A\u001b[A\n",
      "\n",
      "Copying files: 1452 files [00:02, 742.62 files/s]\u001b[A\u001b[A\n",
      "\n",
      "Copying files: 1527 files [00:02, 727.53 files/s]\u001b[A\u001b[A\n",
      "\n",
      "Copying files: 1608 files [00:02, 750.55 files/s]\u001b[A\u001b[A\n",
      "\n",
      "Copying files: 1693 files [00:02, 775.25 files/s]\u001b[A\u001b[A\n",
      "\n",
      "Copying files: 1771 files [00:02, 774.30 files/s]\u001b[A\u001b[A\n",
      "\n",
      "Copying files: 1857 files [00:02, 798.92 files/s]\u001b[A\u001b[A\n",
      "\n",
      "Copying files: 1937 files [00:02, 773.68 files/s]\u001b[A\u001b[A\n",
      "\n",
      "Copying files: 2052 files [00:02, 882.66 files/s]\u001b[A\u001b[A\n",
      "\n",
      "Copying files: 2168 files [00:03, 963.54 files/s]\u001b[A\u001b[A\n",
      "\n",
      "Copying files: 2376 files [00:03, 735.44 files/s]\u001b[A\u001b[A\n"
     ]
    }
   ],
   "source": [
    "import splitfolders  # or import split_folders\n",
    "\n",
    "input_folder = r'C:\\Users\\altul\\Downloads\\Data\\new_split\\data'\n",
    "out = r\"C:\\Users\\altul\\Downloads\\Data\\new_split\\newData\"\n",
    "# Split with a ratio.\n",
    "# To only split into training and validation set, set a tuple to `ratio`, i.e, `(.8, .2)`.\n",
    "#Train, val, test\n",
    "splitfolders.ratio(input_folder, out ,seed=42, ratio=(.7, .2, .1), \n",
    "                   group_prefix=None) # default values\n",
    "\n",
    "\n",
    "# Split val/test with a fixed number of items e.g. 100 for each set.\n",
    "# To only split into training and validation set, use a single number to `fixed`, i.e., `10`.\n",
    "# enable oversampling of imbalanced datasets, works only with fixed\n",
    "#splitfolders.fixed(input_folder, output=\"cell_images2\", \n",
    "                   #seed=42, fixed=(35, 20), \n",
    "                   #oversample=False, group_prefix=None) "
   ]
  },
  {
   "cell_type": "code",
   "execution_count": null,
   "id": "432745dd-08c7-4db3-acb6-fea52ef72fc5",
   "metadata": {},
   "outputs": [],
   "source": []
  },
  {
   "cell_type": "code",
   "execution_count": null,
   "id": "1e04923f-6c11-4a82-bc0a-ae40667b52b9",
   "metadata": {},
   "outputs": [],
   "source": []
  }
 ],
 "metadata": {
  "kernelspec": {
   "display_name": "Python 3 (ipykernel)",
   "language": "python",
   "name": "python3"
  },
  "language_info": {
   "codemirror_mode": {
    "name": "ipython",
    "version": 3
   },
   "file_extension": ".py",
   "mimetype": "text/x-python",
   "name": "python",
   "nbconvert_exporter": "python",
   "pygments_lexer": "ipython3",
   "version": "3.9.16"
  }
 },
 "nbformat": 4,
 "nbformat_minor": 5
}
