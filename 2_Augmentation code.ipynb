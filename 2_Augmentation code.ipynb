{
 "cells": [
  {
   "cell_type": "code",
   "execution_count": 2,
   "id": "2ef8163e-1e1f-4c5d-b369-6ceccad61368",
   "metadata": {},
   "outputs": [],
   "source": [
    "import os\n",
    "Images=[]\n",
    "def LoopImage(directory):\n",
    "    for filename in os.listdir(directory):\n",
    "         if filename.endswith(\".jpg\"):\n",
    "            Images.append(os.path.join(directory, filename))\n",
    "    return Images"
   ]
  },
  {
   "cell_type": "code",
   "execution_count": 5,
   "id": "f965cf25-548b-42aa-9d9b-999871d7c6a3",
   "metadata": {},
   "outputs": [],
   "source": [
    "from keras.preprocessing.image import ImageDataGenerator, array_to_img, img_to_array, load_img\n",
    "datagen = ImageDataGenerator(\n",
    "        rotation_range=45,\n",
    "        width_shift_range=0.2,\n",
    "        height_shift_range=0.2,\n",
    "        shear_range=0.2,\n",
    "        zoom_range=0.2,\n",
    "        horizontal_flip=True,\n",
    "        fill_mode= 'constant')\n",
    "\n",
    "path = r'C:\\Users\\altul\\Downloads\\Data\\new_split\\DataWithAugment\\train\\Birad4'\n",
    "Images= LoopImage(path)\n",
    "#print(Images)\n",
    " \n",
    "for count, img in enumerate(Images):\n",
    "    img = load_img(img)\n",
    "    img = img_to_array(img)\n",
    "    img = img.reshape((1,) + img.shape)\n",
    "    \n",
    "    newpath= r'C:\\Users\\altul\\Downloads\\Data\\new_split\\DataWithAugment\\train\\data'  #You want your images to be saved in different files\n",
    "    if not os.path.exists(newpath):\n",
    "        os.makedirs(newpath)\n",
    "    i = 0 \n",
    "    for batch in datagen.flow(img, batch_size=1,save_to_dir = newpath , save_prefix ='test', save_format='jpg'):\n",
    "        i += 1\n",
    "        if i > 1:\n",
    "            break\n",
    "\n"
   ]
  },
  {
   "cell_type": "code",
   "execution_count": null,
   "id": "c45a04db-cb63-4ca8-8b5a-22336f38e581",
   "metadata": {},
   "outputs": [],
   "source": []
  },
  {
   "cell_type": "code",
   "execution_count": null,
   "id": "105724b9-1bf7-4aaf-be9f-3807f9500cbf",
   "metadata": {},
   "outputs": [],
   "source": []
  }
 ],
 "metadata": {
  "kernelspec": {
   "display_name": "Python 3 (ipykernel)",
   "language": "python",
   "name": "python3"
  },
  "language_info": {
   "codemirror_mode": {
    "name": "ipython",
    "version": 3
   },
   "file_extension": ".py",
   "mimetype": "text/x-python",
   "name": "python",
   "nbconvert_exporter": "python",
   "pygments_lexer": "ipython3",
   "version": "3.9.16"
  }
 },
 "nbformat": 4,
 "nbformat_minor": 5
}
